{
 "cells": [
  {
   "cell_type": "code",
   "execution_count": null,
   "metadata": {},
   "outputs": [],
   "source": [
    "a = \"avocado\"\n",
    "print(a)\n",
    "print(type(a))"
   ]
  },
  {
   "cell_type": "code",
   "execution_count": null,
   "metadata": {},
   "outputs": [],
   "source": [
    "b = 'brocolli'\n",
    "print(b)\n",
    "print(type(b))"
   ]
  },
  {
   "cell_type": "code",
   "execution_count": null,
   "metadata": {},
   "outputs": [],
   "source": [
    "c = \"The monster was 20' feet tall\"\n",
    "print(c)"
   ]
  },
  {
   "cell_type": "code",
   "execution_count": null,
   "metadata": {},
   "outputs": [],
   "source": [
    "c = 'i shrank the monster to 1\" by my shrinking gun'\n",
    "print(c)"
   ]
  },
  {
   "cell_type": "markdown",
   "metadata": {},
   "source": [
    "#### String -> what u need to know\n",
    "1. Indexing and Slicing\n",
    "2. functions"
   ]
  },
  {
   "cell_type": "code",
   "execution_count": null,
   "metadata": {},
   "outputs": [],
   "source": [
    "name = \"William Shakespeare\""
   ]
  },
  {
   "cell_type": "code",
   "execution_count": null,
   "metadata": {},
   "outputs": [],
   "source": [
    "name[-2]"
   ]
  },
  {
   "cell_type": "code",
   "execution_count": null,
   "metadata": {},
   "outputs": [],
   "source": [
    "name[0] + name[1] + name[2] + name[3]"
   ]
  },
  {
   "cell_type": "code",
   "execution_count": null,
   "metadata": {},
   "outputs": [],
   "source": [
    "name[-3]+name[-2]+name[-1]"
   ]
  },
  {
   "cell_type": "code",
   "execution_count": null,
   "metadata": {},
   "outputs": [],
   "source": [
    "name[8:13]"
   ]
  },
  {
   "cell_type": "code",
   "execution_count": null,
   "metadata": {},
   "outputs": [],
   "source": [
    "name[-5:-1]"
   ]
  },
  {
   "cell_type": "code",
   "execution_count": null,
   "metadata": {},
   "outputs": [],
   "source": [
    "fruit = name[-5:-1]\n",
    "print(fruit)"
   ]
  },
  {
   "cell_type": "code",
   "execution_count": null,
   "metadata": {},
   "outputs": [],
   "source": [
    "for i in range(10000):\n",
    "    print(f\"{i}  {chr(i)}\",end=' ')\n",
    "    if i%10 == 0:\n",
    "        print()"
   ]
  },
  {
   "cell_type": "code",
   "execution_count": null,
   "metadata": {},
   "outputs": [],
   "source": [
    "chr(29329)"
   ]
  },
  {
   "cell_type": "code",
   "execution_count": null,
   "metadata": {},
   "outputs": [],
   "source": [
    "name"
   ]
  },
  {
   "cell_type": "code",
   "execution_count": null,
   "metadata": {},
   "outputs": [],
   "source": [
    "name[:] # 0 -> end"
   ]
  },
  {
   "cell_type": "code",
   "execution_count": null,
   "metadata": {},
   "outputs": [],
   "source": [
    "name[::-1] # reverse"
   ]
  },
  {
   "cell_type": "code",
   "execution_count": null,
   "metadata": {},
   "outputs": [],
   "source": [
    "name[::2] # even. indexes values"
   ]
  },
  {
   "cell_type": "code",
   "execution_count": null,
   "metadata": {},
   "outputs": [],
   "source": [
    "name[1::2] # odd indexes values"
   ]
  },
  {
   "cell_type": "markdown",
   "metadata": {},
   "source": [
    "```\n",
    "w1 = 'wikinews'\n",
    "w2 = 'encylopedia'\n",
    "```\n",
    "join these variables to make \"wikipedia\"\n"
   ]
  },
  {
   "cell_type": "code",
   "execution_count": null,
   "metadata": {},
   "outputs": [],
   "source": [
    "w1 = 'wikinews'\n",
    "w2 = 'encylopedia'\n",
    "w3 = w1[:4] + w2[-5:]\n",
    "print(w3)"
   ]
  },
  {
   "cell_type": "markdown",
   "metadata": {},
   "source": [
    "syntax\n",
    "```python\n",
    "string.method_name([paramenters])\n",
    "```\n",
    "\n",
    "String functions\n",
    "- formatting\n",
    "    - upper\n",
    "    - lower\n",
    "    - title\n",
    "    - capitalize\n",
    "    - swapcase\n",
    "    - casefold\n",
    "    - format\n",
    "    - ljust\n",
    "    - rjust\n",
    "    - center\n",
    "- validation\n",
    "    - isalpha\n",
    "    - isalnum\n",
    "    - isnumeric\n",
    "    - isspace\n",
    "    - isdigit\n",
    "    - isprintable\n",
    "    - isupper\n",
    "    - islower\n",
    "    - startswith\n",
    "    - endswith\n",
    "    - etc.,\n",
    "- utility\n",
    "    - count\n",
    "    - find\n",
    "    - replace\n",
    "    - strip\n",
    "    - join\n",
    "    - split\n"
   ]
  },
  {
   "cell_type": "code",
   "execution_count": 2,
   "metadata": {},
   "outputs": [],
   "source": [
    "quote = \"Life before death, Hope before despair, Journey before destination\""
   ]
  },
  {
   "cell_type": "code",
   "execution_count": null,
   "metadata": {},
   "outputs": [],
   "source": [
    "junk_str = \"thi!^#%!&#@s is!@)*#& st!@#*!&@#(*eel{}heart\"\n",
    "punc = '~`!@#$%^&*()[]{};\":'\n",
    "for char in punc:\n",
    "    junk_str = junk_str.replace(char, '_')\n",
    "print(junk_str)"
   ]
  },
  {
   "cell_type": "markdown",
   "metadata": {},
   "source": [
    "REMOVE ALL 'a' characters from the quote"
   ]
  },
  {
   "cell_type": "code",
   "execution_count": null,
   "metadata": {},
   "outputs": [],
   "source": [
    "quote.replace('before','') "
   ]
  },
  {
   "cell_type": "markdown",
   "metadata": {},
   "source": [
    "remove all vowels from the string"
   ]
  },
  {
   "cell_type": "code",
   "execution_count": null,
   "metadata": {},
   "outputs": [],
   "source": [
    "q = quote # copy the variable for the sake of humanity\n",
    "for vowel in \"aeiouAEIOU\":\n",
    "    q = q.replace(vowel,'')\n",
    "\n",
    "print('original:',quote)\n",
    "print(\"no vowels:\",q)"
   ]
  },
  {
   "cell_type": "code",
   "execution_count": null,
   "metadata": {},
   "outputs": [],
   "source": [
    "len(quote)"
   ]
  },
  {
   "cell_type": "code",
   "execution_count": 3,
   "metadata": {},
   "outputs": [
    {
     "data": {
      "text/plain": [
       "12"
      ]
     },
     "execution_count": 3,
     "metadata": {},
     "output_type": "execute_result"
    }
   ],
   "source": [
    "quote.count('e')"
   ]
  },
  {
   "cell_type": "code",
   "execution_count": 4,
   "metadata": {},
   "outputs": [
    {
     "name": "stdout",
     "output_type": "stream",
     "text": [
      "a -> 3\n",
      "b -> 3\n",
      "d -> 3\n",
      "e -> 12\n",
      "f -> 4\n",
      "h -> 2\n",
      "i -> 4\n",
      "j -> 1\n",
      "l -> 1\n",
      "n -> 3\n",
      "o -> 6\n",
      "p -> 2\n",
      "r -> 5\n",
      "s -> 2\n",
      "t -> 3\n",
      "u -> 1\n",
      "y -> 1\n"
     ]
    }
   ],
   "source": [
    "from string import ascii_lowercase\n",
    "\n",
    "for letter in ascii_lowercase:\n",
    "    occurs = quote.lower().count(letter)\n",
    "    if occurs:\n",
    "        print(f\"{letter} -> {occurs}\")"
   ]
  },
  {
   "cell_type": "code",
   "execution_count": 5,
   "metadata": {},
   "outputs": [
    {
     "data": {
      "text/plain": [
       "['Life',\n",
       " 'before',\n",
       " 'death,',\n",
       " 'Hope',\n",
       " 'before',\n",
       " 'despair,',\n",
       " 'Journey',\n",
       " 'before',\n",
       " 'destination']"
      ]
     },
     "execution_count": 5,
     "metadata": {},
     "output_type": "execute_result"
    }
   ],
   "source": [
    "quote.split()"
   ]
  },
  {
   "cell_type": "code",
   "execution_count": 6,
   "metadata": {},
   "outputs": [
    {
     "name": "stdout",
     "output_type": "stream",
     "text": [
      "we have 9 words\n"
     ]
    }
   ],
   "source": [
    "words =  quote.split()\n",
    "print(\"we have\",len(words),\"words\")"
   ]
  },
  {
   "cell_type": "code",
   "execution_count": 7,
   "metadata": {},
   "outputs": [
    {
     "data": {
      "text/plain": [
       "'Life before death, Hope before despair, Journey before destination'"
      ]
     },
     "execution_count": 7,
     "metadata": {},
     "output_type": "execute_result"
    }
   ],
   "source": [
    "quote"
   ]
  },
  {
   "cell_type": "code",
   "execution_count": 8,
   "metadata": {},
   "outputs": [
    {
     "data": {
      "text/plain": [
       "['Life before death', ' Hope before despair', ' Journey before destination']"
      ]
     },
     "execution_count": 8,
     "metadata": {},
     "output_type": "execute_result"
    }
   ],
   "source": [
    "quote.split(\",\")"
   ]
  },
  {
   "cell_type": "code",
   "execution_count": 9,
   "metadata": {},
   "outputs": [
    {
     "name": "stdout",
     "output_type": "stream",
     "text": [
      "['Lif', ' b', 'for', ' d', 'ath, Hop', ' b', 'for', ' d', 'spair, Journ', 'y b', 'for', ' d', 'stination']\n"
     ]
    }
   ],
   "source": [
    "print(quote.split(\"e\"))"
   ]
  },
  {
   "cell_type": "code",
   "execution_count": 10,
   "metadata": {},
   "outputs": [
    {
     "data": {
      "text/plain": [
       "'Life before death, Hope before despair, Journey before destination'"
      ]
     },
     "execution_count": 10,
     "metadata": {},
     "output_type": "execute_result"
    }
   ],
   "source": [
    "quote"
   ]
  },
  {
   "cell_type": "code",
   "execution_count": 11,
   "metadata": {},
   "outputs": [
    {
     "data": {
      "text/plain": [
       "'LIFE BEFORE DEATH, HOPE BEFORE DESPAIR, JOURNEY BEFORE DESTINATION'"
      ]
     },
     "execution_count": 11,
     "metadata": {},
     "output_type": "execute_result"
    }
   ],
   "source": [
    "quote.upper()"
   ]
  },
  {
   "cell_type": "code",
   "execution_count": 12,
   "metadata": {},
   "outputs": [
    {
     "data": {
      "text/plain": [
       "'Life before death, Hope before despair, Journey before destination'"
      ]
     },
     "execution_count": 12,
     "metadata": {},
     "output_type": "execute_result"
    }
   ],
   "source": [
    "quote"
   ]
  },
  {
   "cell_type": "code",
   "execution_count": 13,
   "metadata": {},
   "outputs": [],
   "source": [
    "qu = quote.upper()"
   ]
  },
  {
   "cell_type": "code",
   "execution_count": 14,
   "metadata": {},
   "outputs": [
    {
     "data": {
      "text/plain": [
       "'life before death, hope before despair, journey before destination'"
      ]
     },
     "execution_count": 14,
     "metadata": {},
     "output_type": "execute_result"
    }
   ],
   "source": [
    "quote.lower()"
   ]
  },
  {
   "cell_type": "code",
   "execution_count": 15,
   "metadata": {},
   "outputs": [
    {
     "data": {
      "text/plain": [
       "'Life Before Death, Hope Before Despair, Journey Before Destination'"
      ]
     },
     "execution_count": 15,
     "metadata": {},
     "output_type": "execute_result"
    }
   ],
   "source": [
    "quote.title()"
   ]
  },
  {
   "cell_type": "code",
   "execution_count": 16,
   "metadata": {},
   "outputs": [
    {
     "data": {
      "text/plain": [
       "'lIFE BEFORE DEATH, hOPE BEFORE DESPAIR, jOURNEY BEFORE DESTINATION'"
      ]
     },
     "execution_count": 16,
     "metadata": {},
     "output_type": "execute_result"
    }
   ],
   "source": [
    "quote.swapcase()"
   ]
  },
  {
   "cell_type": "markdown",
   "metadata": {},
   "source": [
    "### wap to take user input and check the data, if the data is numeric, convert it to number else if the data is alphanumeric then extract only numbers and convert it"
   ]
  },
  {
   "cell_type": "code",
   "execution_count": 5,
   "metadata": {},
   "outputs": [
    {
     "name": "stdout",
     "output_type": "stream",
     "text": [
      "data is weird\n"
     ]
    }
   ],
   "source": [
    "data = input(\"please, enter some data:\")\n",
    "if data.isnumeric():\n",
    "    num = int(data)\n",
    "    print(\"data converted to number:\",num)\n",
    "elif data.isalnum():\n",
    "    temp = ''\n",
    "    for char in data:\n",
    "        if char.isnumeric():\n",
    "            temp += char\n",
    "    if temp:\n",
    "        num = int(temp)\n",
    "        print(\"data converted to number:\",num)\n",
    "    else:\n",
    "        print('data is only alphabets')\n",
    "else:\n",
    "    print(\"data is weird\")\n",
    "    "
   ]
  },
  {
   "cell_type": "markdown",
   "metadata": {},
   "source": [
    "### write a simple text menu based calculator for doing basic options like addition, substraction, multiplication"
   ]
  },
  {
   "cell_type": "code",
   "execution_count": null,
   "metadata": {},
   "outputs": [],
   "source": [
    "print(\"Here is boring calculator menu\")\n",
    "print(\"1. Add number\")\n",
    "print(\"2. Subtract number\")\n",
    "print(\"3. Multiply number\")\n",
    "ch = input(\"Please, enter your choice:\")\n",
    "if ch == '1':\n",
    "    num1 = int(input(\"Enter first number:\"))\n",
    "    num2 = int(input(\"Enter second number:\"))\n",
    "    print(\"Sum is:\",num1+num2)\n",
    "elif ch == '2':\n",
    "    num1 = int(input(\"Enter first number:\"))\n",
    "    num2 = int(input(\"Enter second number:\"))\n",
    "    print(\"Difference is:\",num1-num2)\n",
    "elif ch == '3':\n",
    "    num1 = int(input(\"Enter first number:\"))\n",
    "    num2 = int(input(\"Enter second number:\"))\n",
    "    print(\"Product is:\",num1*num2)\n",
    "else:\n",
    "    print(\"Invalid choice\")"
   ]
  }
 ],
 "metadata": {
  "interpreter": {
   "hash": "26d6d95e799f68a0680bea77b17a4e3218da601be7d02863e2950dbe63a5be85"
  },
  "kernelspec": {
   "display_name": "Python 3.9.5 ('base')",
   "language": "python",
   "name": "python3"
  },
  "language_info": {
   "codemirror_mode": {
    "name": "ipython",
    "version": 3
   },
   "file_extension": ".py",
   "mimetype": "text/x-python",
   "name": "python",
   "nbconvert_exporter": "python",
   "pygments_lexer": "ipython3",
   "version": "3.9.5"
  },
  "orig_nbformat": 4
 },
 "nbformat": 4,
 "nbformat_minor": 2
}
