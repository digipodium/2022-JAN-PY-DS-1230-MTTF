{
 "cells": [
  {
   "cell_type": "markdown",
   "metadata": {},
   "source": [
    "# List \n",
    "- list is mutable `(item add, remove)`\n",
    "- list is heterogenous `(mixed data can be stored)`\n",
    "- list can have duplicate values\n",
    "- list is indexed `(item have indexes and can be sliced)`\n",
    "- list uses `[ ]` brackets with values inside it seperated with commas\n",
    "\n",
    "### what to learn\n",
    "- #### creating a list\n",
    "- #### indexing n slicing\n",
    "- #### traversal (looping)\n",
    "- #### function (11)\n",
    "- #### comprehension\n",
    "- #### lambda, map and filter"
   ]
  },
  {
   "cell_type": "code",
   "execution_count": null,
   "metadata": {},
   "outputs": [],
   "source": [
    "# list of strings\n",
    "names = [\"Kaladin\", \"Adolin\", 'Dalinar', 'Wit', 'Shallan', 'Navani']\n",
    "# list of numbers\n",
    "factors = [1, 2, 3, 5, 15, 25, 100]\n",
    "# mixed data list\n",
    "info = ['Ravi',90,102,93,29,44,\"B\",False,5.786]\n",
    "# nested list\n",
    "c2d = [[1,2,3],[3,4,5,7],[2,1]]\n",
    "\n",
    "# list from function\n",
    "fact = \"icecube sits in its own blood\"\n",
    "words = fact.split()"
   ]
  },
  {
   "cell_type": "code",
   "execution_count": null,
   "metadata": {},
   "outputs": [],
   "source": [
    "# quick list hack with same values\n",
    "x = [1] * 10\n",
    "print(x)"
   ]
  },
  {
   "cell_type": "code",
   "execution_count": null,
   "metadata": {},
   "outputs": [],
   "source": [
    "# list from variables\n",
    "a = 10\n",
    "b = ''\n",
    "c = 9\n",
    "x = 100\n",
    "l = [a,b,c,x]\n",
    "print(l)\n"
   ]
  },
  {
   "cell_type": "code",
   "execution_count": null,
   "metadata": {},
   "outputs": [],
   "source": [
    "kharche = []  # empty list"
   ]
  },
  {
   "cell_type": "code",
   "execution_count": null,
   "metadata": {},
   "outputs": [],
   "source": [
    "kharche.append(100)\n",
    "print(kharche)\n",
    "kharche.append(200)\n",
    "print(kharche)\n",
    "kharche.append(300)\n",
    "print(kharche)"
   ]
  },
  {
   "cell_type": "code",
   "execution_count": null,
   "metadata": {},
   "outputs": [],
   "source": [
    "fav_foods = [] \n",
    "for i in range(3):\n",
    "    food = input(\"enter name of ur fav food=>\")\n",
    "    fav_foods.append(food)\n",
    "print(fav_foods) "
   ]
  },
  {
   "cell_type": "code",
   "execution_count": null,
   "metadata": {},
   "outputs": [],
   "source": [
    "nums = []\n",
    "for i in range(1,100):\n",
    "    nums.append(i)\n",
    "print(nums)"
   ]
  },
  {
   "cell_type": "code",
   "execution_count": null,
   "metadata": {},
   "outputs": [],
   "source": [
    "names[2]"
   ]
  },
  {
   "cell_type": "code",
   "execution_count": null,
   "metadata": {},
   "outputs": [],
   "source": [
    "words[-2]"
   ]
  },
  {
   "cell_type": "markdown",
   "metadata": {},
   "source": [
    "### functions \n",
    "- adding items\n",
    "    - append\n",
    "    - insert\n",
    "    - extend\n",
    "- delete items\n",
    "    - remove\n",
    "    - pop\n",
    "    - clear\n",
    "- utility func\n",
    "    - reverse\n",
    "    - sort\n",
    "    - count\n",
    "    - index\n",
    "    - copy"
   ]
  },
  {
   "cell_type": "code",
   "execution_count": null,
   "metadata": {},
   "outputs": [],
   "source": [
    "fruits = []\n",
    "fruits.append(\"apple\")\n",
    "fruits.append(\"banana\")\n",
    "fruits.append(\"cherry\")\n",
    "fruits.append('guava')\n",
    "fruits"
   ]
  },
  {
   "cell_type": "code",
   "execution_count": null,
   "metadata": {},
   "outputs": [],
   "source": [
    "fruits.insert(-1, 'fig')\n",
    "fruits"
   ]
  },
  {
   "cell_type": "code",
   "execution_count": null,
   "metadata": {},
   "outputs": [],
   "source": [
    "fruits.insert(-2, 'dragonfruit')\n",
    "fruits"
   ]
  },
  {
   "cell_type": "code",
   "execution_count": null,
   "metadata": {},
   "outputs": [],
   "source": [
    "fruits.insert(1,'avocado')\n",
    "fruits"
   ]
  },
  {
   "cell_type": "code",
   "execution_count": null,
   "metadata": {},
   "outputs": [],
   "source": [
    "fruits.insert(100,'rotten apple')\n",
    "fruits"
   ]
  },
  {
   "cell_type": "code",
   "execution_count": null,
   "metadata": {},
   "outputs": [],
   "source": [
    "dry_fruits = ['Almonds','cashew','walnut']\n",
    "dry_fruits"
   ]
  },
  {
   "cell_type": "code",
   "execution_count": null,
   "metadata": {},
   "outputs": [],
   "source": [
    "fruits.extend(dry_fruits)\n",
    "fruits"
   ]
  },
  {
   "cell_type": "code",
   "execution_count": null,
   "metadata": {},
   "outputs": [],
   "source": [
    "len(fruits)"
   ]
  },
  {
   "cell_type": "code",
   "execution_count": null,
   "metadata": {},
   "outputs": [],
   "source": [
    "fruits"
   ]
  },
  {
   "cell_type": "code",
   "execution_count": null,
   "metadata": {},
   "outputs": [],
   "source": [
    "if 'rotten apple' in fruits:\n",
    "    fruits.remove('rotten apple')\n",
    "    print(fruits)\n",
    "else:\n",
    "    print('no rotten apple found')"
   ]
  },
  {
   "cell_type": "code",
   "execution_count": null,
   "metadata": {},
   "outputs": [],
   "source": [
    "if 'papaya' in fruits:\n",
    "    fruits.remove('papaya')"
   ]
  },
  {
   "cell_type": "markdown",
   "metadata": {},
   "source": [
    "pop can be used in 2 way\n",
    "- #### `list.pop()`    => remove the last value in the list and gives us that value\n",
    "- #### `list.pop(idx)` => remove the value from idx if idx is valid and gives the value"
   ]
  },
  {
   "cell_type": "code",
   "execution_count": null,
   "metadata": {},
   "outputs": [],
   "source": [
    "v = fruits.pop()\n",
    "print('removed_value=>',v)\n",
    "print('list=>', fruits)"
   ]
  },
  {
   "cell_type": "code",
   "execution_count": null,
   "metadata": {},
   "outputs": [],
   "source": [
    "v = fruits.pop(3) # removing from index 3\n",
    "print('removed_value=>',v)\n",
    "print('list=>', fruits)"
   ]
  },
  {
   "cell_type": "code",
   "execution_count": null,
   "metadata": {},
   "outputs": [],
   "source": [
    "fruits.clear()\n",
    "fruits"
   ]
  },
  {
   "cell_type": "code",
   "execution_count": null,
   "metadata": {},
   "outputs": [],
   "source": [
    "movies = [\n",
    "    'Ghostbusters: Afterlife',\n",
    "    'Spider-Man: No way home',\n",
    "    \"Shang-chi\",\n",
    "    'Eternals',\n",
    "    'The Last Duel',\n",
    "    'Venom: Let There be Carnage',\n",
    "    'The Sucide Squad',\n",
    "    'Free Guy',\n",
    "    'Mortal Kombat',\n",
    "    'The Matrix Resurrections',\n",
    "    'Jungle Cruise',\n",
    "    'Nobody'\n",
    "]"
   ]
  },
  {
   "cell_type": "code",
   "execution_count": null,
   "metadata": {},
   "outputs": [],
   "source": [
    "print(\"normal\\n\",movies)\n",
    "movies.reverse()\n",
    "print(\"reverse\\n\",movies)"
   ]
  },
  {
   "cell_type": "code",
   "execution_count": null,
   "metadata": {},
   "outputs": [],
   "source": [
    "movies.sort()\n",
    "print(movies)"
   ]
  },
  {
   "cell_type": "code",
   "execution_count": null,
   "metadata": {},
   "outputs": [],
   "source": [
    "movies.sort(reverse=True)\n",
    "print(movies)"
   ]
  },
  {
   "cell_type": "code",
   "execution_count": null,
   "metadata": {},
   "outputs": [],
   "source": [
    "dup_mov = movies.copy()\n",
    "print(dup_mov)"
   ]
  },
  {
   "cell_type": "code",
   "execution_count": null,
   "metadata": {},
   "outputs": [],
   "source": [
    "movies.index('Eternals')"
   ]
  },
  {
   "cell_type": "code",
   "execution_count": null,
   "metadata": {},
   "outputs": [],
   "source": [
    "movies.index('Shang-chi')"
   ]
  },
  {
   "cell_type": "code",
   "execution_count": null,
   "metadata": {},
   "outputs": [],
   "source": [
    "movies.reverse()"
   ]
  },
  {
   "cell_type": "code",
   "execution_count": null,
   "metadata": {},
   "outputs": [],
   "source": [
    "if 'Nobody' in movies:\n",
    "    print(movies.index('Nobody'))"
   ]
  },
  {
   "cell_type": "code",
   "execution_count": null,
   "metadata": {},
   "outputs": [],
   "source": [
    "x = [1,2,3,1,2,3,1,2,3,1,2,3,1,2,3,1,1,1,1,2,2,2,2,2,3,3,3,3,1,1,1,2,2,2,3,3,1,1,1,2,2,2,1,1]"
   ]
  },
  {
   "cell_type": "code",
   "execution_count": null,
   "metadata": {},
   "outputs": [],
   "source": [
    "x.count(1)"
   ]
  },
  {
   "cell_type": "code",
   "execution_count": null,
   "metadata": {},
   "outputs": [],
   "source": [
    "x.count(2)"
   ]
  },
  {
   "cell_type": "code",
   "execution_count": null,
   "metadata": {},
   "outputs": [],
   "source": [
    "x.count(3)"
   ]
  },
  {
   "cell_type": "code",
   "execution_count": null,
   "metadata": {},
   "outputs": [],
   "source": [
    "x.count(4)"
   ]
  },
  {
   "cell_type": "markdown",
   "metadata": {},
   "source": [
    "### wap a program to enter 15 numbers in list, then print the sum, min, max, mean of that list"
   ]
  },
  {
   "cell_type": "code",
   "execution_count": 1,
   "metadata": {},
   "outputs": [
    {
     "name": "stdout",
     "output_type": "stream",
     "text": [
      "sum of values =  80\n",
      "min value =  1\n",
      "max valus =  44\n",
      "mean of values =  5.333333333333333\n"
     ]
    }
   ],
   "source": [
    "nums = []\n",
    "for i in range(15):\n",
    "    val = int(input(f'enter {i+1} number:'))\n",
    "    nums.append(val)\n",
    "\n",
    "print(\"sum of values = \", sum(nums))\n",
    "print(\"min value = \", min(nums))\n",
    "print(\"max valus = \", max(nums))\n",
    "print(\"mean of values = \", sum(nums)/len(nums))\n"
   ]
  },
  {
   "cell_type": "code",
   "execution_count": 73,
   "metadata": {},
   "outputs": [],
   "source": [
    "sum = 2"
   ]
  },
  {
   "cell_type": "code",
   "execution_count": null,
   "metadata": {},
   "outputs": [],
   "source": []
  }
 ],
 "metadata": {
  "interpreter": {
   "hash": "dcacb0086e9a4f4eabd41c33bf4faac5ea0a3337ed3f5eff0680afa930572c04"
  },
  "kernelspec": {
   "display_name": "Python 3.9.7 64-bit",
   "language": "python",
   "name": "python3"
  },
  "language_info": {
   "codemirror_mode": {
    "name": "ipython",
    "version": 3
   },
   "file_extension": ".py",
   "mimetype": "text/x-python",
   "name": "python",
   "nbconvert_exporter": "python",
   "pygments_lexer": "ipython3",
   "version": "3.9.5"
  },
  "orig_nbformat": 4
 },
 "nbformat": 4,
 "nbformat_minor": 2
}
