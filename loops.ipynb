{
 "cells": [
  {
   "cell_type": "code",
   "execution_count": null,
   "metadata": {},
   "outputs": [],
   "source": [
    "x = \"Python\"\n",
    "for i in x:\n",
    "    print(i)\n",
    "print('the end')"
   ]
  },
  {
   "cell_type": "code",
   "execution_count": null,
   "metadata": {},
   "outputs": [],
   "source": [
    "movies = ['The Holy Grail', 'The Life of Brian', 'The Meaning of Life','Terminator','Pulp Fiction']"
   ]
  },
  {
   "cell_type": "code",
   "execution_count": null,
   "metadata": {},
   "outputs": [],
   "source": [
    "for movie in movies:\n",
    "    print(movie, len(movie))"
   ]
  },
  {
   "cell_type": "code",
   "execution_count": null,
   "metadata": {},
   "outputs": [],
   "source": [
    "# for loop with counter\n",
    "for i,name in enumerate(movies):\n",
    "    print(f\"{i} - {name}\")"
   ]
  },
  {
   "cell_type": "markdown",
   "metadata": {},
   "source": [
    "#### 1. wap to print if numbers are even or odd from 1,101\n",
    "#### 2. wap to print the sum of all even numbers from 2 to 101\n",
    "#### 3. wap to print the average of all odd numbers from 1 to 100"
   ]
  },
  {
   "cell_type": "code",
   "execution_count": null,
   "metadata": {},
   "outputs": [],
   "source": [
    "# 1\n",
    "for i in range(1,101):\n",
    "    if i % 2 == 0:\n",
    "        print('even', i)\n",
    "    else:\n",
    "        print('odd', i)"
   ]
  },
  {
   "cell_type": "code",
   "execution_count": null,
   "metadata": {},
   "outputs": [],
   "source": [
    "# 2 simple version\n",
    "total = 0\n",
    "for i in range(2,101):\n",
    "    if i % 2 == 0:\n",
    "        total += i\n",
    "print(\"total of all even numbers=>\",total)"
   ]
  },
  {
   "cell_type": "code",
   "execution_count": null,
   "metadata": {},
   "outputs": [],
   "source": [
    "# naive implementation\n",
    "print(1,2,3,4,5,sep=' ')\n",
    "print(2,4,6,8,10,sep=' ')\n",
    "print(3,6,9,12,15,sep=' ')\n",
    "print(4,8,12,16,20,sep=' ')\n",
    "print(5,10,15,20,25,sep=' ')"
   ]
  },
  {
   "cell_type": "code",
   "execution_count": null,
   "metadata": {},
   "outputs": [],
   "source": [
    "# better implemenation -> dynamic rows\n",
    "for i in range(1,6):\n",
    "    print(1*i,2*i,3*i,4*i,5*i,sep=' ')"
   ]
  },
  {
   "cell_type": "code",
   "execution_count": null,
   "metadata": {},
   "outputs": [],
   "source": [
    "# best implemenation -> dynamics row and col\n",
    "for row in range(1,6):\n",
    "    for col in range(1,6):\n",
    "        print(row * col,end=' ')\n",
    "    print()"
   ]
  },
  {
   "cell_type": "code",
   "execution_count": null,
   "metadata": {},
   "outputs": [],
   "source": [
    "poem=''\n",
    "while input('do u want to write another line[y/n]?') == 'y':\n",
    "    line = input(\">>>\")\n",
    "    poem += line\n",
    "chars = len(poem)\n",
    "print(f\"total chars in poem is {chars}\")\n"
   ]
  },
  {
   "cell_type": "code",
   "execution_count": null,
   "metadata": {},
   "outputs": [],
   "source": [
    "# continue\n",
    "x = [1,2,'',3,4,5,'',6,7,'',8,9,10]\n",
    "total = 0\n",
    "for i in x:\n",
    "    if isinstance(i,str):\n",
    "        continue\n",
    "    total += i\n",
    "print(total)"
   ]
  },
  {
   "cell_type": "code",
   "execution_count": null,
   "metadata": {},
   "outputs": [],
   "source": [
    "poem= ''\n",
    "while True: # infinite\n",
    "    line = input(\"enter poem line>>\")\n",
    "    if line:            # if line has len greater than 0\n",
    "        poem += line+'\\n'\n",
    "    else:\n",
    "        break\n",
    "\n",
    "print(\"total chars\",len(poem))\n",
    "print(poem)"
   ]
  },
  {
   "cell_type": "code",
   "execution_count": null,
   "metadata": {},
   "outputs": [],
   "source": []
  }
 ],
 "metadata": {
  "interpreter": {
   "hash": "26d6d95e799f68a0680bea77b17a4e3218da601be7d02863e2950dbe63a5be85"
  },
  "kernelspec": {
   "display_name": "Python 3.9.5 ('base')",
   "language": "python",
   "name": "python3"
  },
  "language_info": {
   "codemirror_mode": {
    "name": "ipython",
    "version": 3
   },
   "file_extension": ".py",
   "mimetype": "text/x-python",
   "name": "python",
   "nbconvert_exporter": "python",
   "pygments_lexer": "ipython3",
   "version": "3.9.5"
  },
  "orig_nbformat": 4
 },
 "nbformat": 4,
 "nbformat_minor": 2
}
