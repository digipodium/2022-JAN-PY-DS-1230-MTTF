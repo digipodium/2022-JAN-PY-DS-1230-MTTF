{
 "cells": [
  {
   "cell_type": "code",
   "execution_count": 5,
   "metadata": {},
   "outputs": [
    {
     "name": "stdout",
     "output_type": "stream",
     "text": [
      "flipkart.com?page=1\n",
      "flipkart.com?page=2\n",
      "flipkart.com?page=3\n",
      "flipkart.com?page=4\n",
      "flipkart.com?page=5\n",
      "flipkart.com?page=6\n",
      "flipkart.com?page=7\n",
      "flipkart.com?page=8\n",
      "flipkart.com?page=9\n",
      "flipkart.com?page=10\n"
     ]
    }
   ],
   "source": [
    "for i in range(10):\n",
    "    print(f'flipkart.com?page={i+1}')"
   ]
  },
  {
   "cell_type": "code",
   "execution_count": 10,
   "metadata": {},
   "outputs": [
    {
     "name": "stdout",
     "output_type": "stream",
     "text": [
      "https://www.flipkart.com/search?q=bags&page=1\n",
      "https://www.flipkart.com/search?q=bags&page=2\n",
      "https://www.flipkart.com/search?q=bags&page=3\n",
      "https://www.flipkart.com/search?q=bags&page=4\n",
      "https://www.flipkart.com/search?q=bags&page=5\n",
      "https://www.flipkart.com/search?q=bags&page=6\n",
      "https://www.flipkart.com/search?q=bags&page=7\n",
      "https://www.flipkart.com/search?q=bags&page=8\n",
      "https://www.flipkart.com/search?q=bags&page=9\n",
      "https://www.flipkart.com/search?q=bags&page=10\n",
      "https://www.flipkart.com/search?q=bags&page=11\n",
      "https://www.flipkart.com/search?q=bags&page=12\n",
      "https://www.flipkart.com/search?q=bags&page=13\n",
      "https://www.flipkart.com/search?q=bags&page=14\n",
      "https://www.flipkart.com/search?q=bags&page=15\n",
      "https://www.flipkart.com/search?q=bags&page=16\n",
      "https://www.flipkart.com/search?q=bags&page=17\n",
      "https://www.flipkart.com/search?q=bags&page=18\n",
      "https://www.flipkart.com/search?q=bags&page=19\n",
      "https://www.flipkart.com/search?q=bags&page=20\n",
      "https://www.flipkart.com/search?q=bags&page=21\n",
      "https://www.flipkart.com/search?q=bags&page=22\n",
      "https://www.flipkart.com/search?q=bags&page=23\n",
      "https://www.flipkart.com/search?q=bags&page=24\n",
      "https://www.flipkart.com/search?q=bags&page=25\n",
      "https://www.flipkart.com/search?q=bags&page=26\n",
      "https://www.flipkart.com/search?q=bags&page=27\n",
      "https://www.flipkart.com/search?q=bags&page=28\n",
      "https://www.flipkart.com/search?q=bags&page=29\n",
      "https://www.flipkart.com/search?q=bags&page=30\n",
      "https://www.flipkart.com/search?q=bags&page=31\n",
      "https://www.flipkart.com/search?q=bags&page=32\n",
      "https://www.flipkart.com/search?q=bags&page=33\n",
      "https://www.flipkart.com/search?q=bags&page=34\n",
      "https://www.flipkart.com/search?q=bags&page=35\n",
      "https://www.flipkart.com/search?q=bags&page=36\n",
      "https://www.flipkart.com/search?q=bags&page=37\n",
      "https://www.flipkart.com/search?q=bags&page=38\n",
      "https://www.flipkart.com/search?q=bags&page=39\n",
      "https://www.flipkart.com/search?q=bags&page=40\n",
      "https://www.flipkart.com/search?q=bags&page=41\n",
      "https://www.flipkart.com/search?q=bags&page=42\n",
      "https://www.flipkart.com/search?q=bags&page=43\n",
      "https://www.flipkart.com/search?q=bags&page=44\n",
      "https://www.flipkart.com/search?q=bags&page=45\n",
      "https://www.flipkart.com/search?q=bags&page=46\n",
      "https://www.flipkart.com/search?q=bags&page=47\n",
      "https://www.flipkart.com/search?q=bags&page=48\n",
      "https://www.flipkart.com/search?q=bags&page=49\n",
      "https://www.flipkart.com/search?q=bags&page=50\n",
      "https://www.flipkart.com/search?q=bags&page=51\n",
      "https://www.flipkart.com/search?q=bags&page=52\n",
      "https://www.flipkart.com/search?q=bags&page=53\n",
      "https://www.flipkart.com/search?q=bags&page=54\n",
      "https://www.flipkart.com/search?q=bags&page=55\n",
      "https://www.flipkart.com/search?q=bags&page=56\n",
      "https://www.flipkart.com/search?q=bags&page=57\n",
      "https://www.flipkart.com/search?q=bags&page=58\n",
      "https://www.flipkart.com/search?q=bags&page=59\n",
      "https://www.flipkart.com/search?q=bags&page=60\n",
      "https://www.flipkart.com/search?q=bags&page=61\n",
      "https://www.flipkart.com/search?q=bags&page=62\n",
      "https://www.flipkart.com/search?q=bags&page=63\n",
      "https://www.flipkart.com/search?q=bags&page=64\n",
      "https://www.flipkart.com/search?q=bags&page=65\n",
      "https://www.flipkart.com/search?q=bags&page=66\n",
      "https://www.flipkart.com/search?q=bags&page=67\n",
      "https://www.flipkart.com/search?q=bags&page=68\n",
      "https://www.flipkart.com/search?q=bags&page=69\n",
      "https://www.flipkart.com/search?q=bags&page=70\n",
      "https://www.flipkart.com/search?q=bags&page=71\n",
      "https://www.flipkart.com/search?q=bags&page=72\n",
      "https://www.flipkart.com/search?q=bags&page=73\n",
      "https://www.flipkart.com/search?q=bags&page=74\n",
      "https://www.flipkart.com/search?q=bags&page=75\n",
      "https://www.flipkart.com/search?q=bags&page=76\n",
      "https://www.flipkart.com/search?q=bags&page=77\n",
      "https://www.flipkart.com/search?q=bags&page=78\n",
      "https://www.flipkart.com/search?q=bags&page=79\n",
      "https://www.flipkart.com/search?q=bags&page=80\n",
      "https://www.flipkart.com/search?q=bags&page=81\n",
      "https://www.flipkart.com/search?q=bags&page=82\n",
      "https://www.flipkart.com/search?q=bags&page=83\n",
      "https://www.flipkart.com/search?q=bags&page=84\n",
      "https://www.flipkart.com/search?q=bags&page=85\n",
      "https://www.flipkart.com/search?q=bags&page=86\n",
      "https://www.flipkart.com/search?q=bags&page=87\n",
      "https://www.flipkart.com/search?q=bags&page=88\n",
      "https://www.flipkart.com/search?q=bags&page=89\n",
      "https://www.flipkart.com/search?q=bags&page=90\n",
      "https://www.flipkart.com/search?q=bags&page=91\n",
      "https://www.flipkart.com/search?q=bags&page=92\n",
      "https://www.flipkart.com/search?q=bags&page=93\n",
      "https://www.flipkart.com/search?q=bags&page=94\n",
      "https://www.flipkart.com/search?q=bags&page=95\n",
      "https://www.flipkart.com/search?q=bags&page=96\n",
      "https://www.flipkart.com/search?q=bags&page=97\n",
      "https://www.flipkart.com/search?q=bags&page=98\n",
      "https://www.flipkart.com/search?q=bags&page=99\n",
      "https://www.flipkart.com/search?q=bags&page=100\n"
     ]
    }
   ],
   "source": [
    "query = 'bags'\n",
    "page = 1\n",
    "url = f\"https://www.flipkart.com/search?q={query}&page={page}\"\n",
    "print(url)"
   ]
  },
  {
   "cell_type": "code",
   "execution_count": null,
   "metadata": {},
   "outputs": [],
   "source": []
  }
 ],
 "metadata": {
  "interpreter": {
   "hash": "26d6d95e799f68a0680bea77b17a4e3218da601be7d02863e2950dbe63a5be85"
  },
  "kernelspec": {
   "display_name": "Python 3.9.5 ('base')",
   "language": "python",
   "name": "python3"
  },
  "language_info": {
   "codemirror_mode": {
    "name": "ipython",
    "version": 3
   },
   "file_extension": ".py",
   "mimetype": "text/x-python",
   "name": "python",
   "nbconvert_exporter": "python",
   "pygments_lexer": "ipython3",
   "version": "3.9.5"
  },
  "orig_nbformat": 4
 },
 "nbformat": 4,
 "nbformat_minor": 2
}
