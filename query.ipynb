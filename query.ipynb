{
 "cells": [
  {
   "cell_type": "code",
   "execution_count": null,
   "metadata": {},
   "outputs": [],
   "source": [
    "str.join?"
   ]
  },
  {
   "cell_type": "code",
   "execution_count": null,
   "metadata": {},
   "outputs": [],
   "source": [
    "output = ' '.join(['apple','banana','something'])\n",
    "print(output)"
   ]
  },
  {
   "cell_type": "code",
   "execution_count": null,
   "metadata": {},
   "outputs": [],
   "source": [
    "str.split?"
   ]
  },
  {
   "cell_type": "code",
   "execution_count": null,
   "metadata": {},
   "outputs": [],
   "source": [
    "uinp = input(\"enter some lines =>\")\n",
    "for word in uinp.split():\n",
    "    print(word)"
   ]
  },
  {
   "cell_type": "code",
   "execution_count": null,
   "metadata": {},
   "outputs": [],
   "source": [
    "for word in input('enter some lines=>').split(): print(word)"
   ]
  },
  {
   "cell_type": "markdown",
   "metadata": {},
   "source": [
    "text = '%p34@y!*-*!t68h#&on404'"
   ]
  },
  {
   "cell_type": "code",
   "execution_count": null,
   "metadata": {},
   "outputs": [],
   "source": [
    "from string import punctuation\n",
    "from string import octdigits, ascii_letters\n",
    "print(octdigits)\n",
    "print(ascii_letters)\n",
    "print(punctuation)"
   ]
  },
  {
   "cell_type": "code",
   "execution_count": null,
   "metadata": {},
   "outputs": [],
   "source": [
    "text = '%p34@y!*-*!t68h#&on404'\n",
    "for p in punctuation:\n",
    "    text = text.replace(p,'')\n",
    "print(text)"
   ]
  },
  {
   "cell_type": "code",
   "execution_count": null,
   "metadata": {},
   "outputs": [],
   "source": [
    "sentence = '''this is a paragraph which is written just for the purpose\n",
    "of providing content to let the average word length be calculated'''\n",
    "words =  sentence.split()\n",
    "# print(words)\n",
    "sizes = []\n",
    "for word in words:\n",
    "    sizes.append(len(word))\n",
    "# print(sizes)\n",
    "print('average word length:', sum(sizes)/len(sizes))"
   ]
  },
  {
   "cell_type": "code",
   "execution_count": null,
   "metadata": {},
   "outputs": [],
   "source": [
    "# compressed code\n",
    "sizes = [len(word) for word in sentence.split()]\n",
    "print('average word length:', sum(sizes)/len(sizes))"
   ]
  },
  {
   "cell_type": "code",
   "execution_count": 3,
   "metadata": {},
   "outputs": [
    {
     "name": "stdout",
     "output_type": "stream",
     "text": [
      "[1, 12, 45, 67, 124]\n"
     ]
    }
   ],
   "source": [
    "size = 5\n",
    "x = [int(input(\">>\")) for i in range(size)]\n",
    "x.sort()\n",
    "print(x)"
   ]
  },
  {
   "cell_type": "code",
   "execution_count": 4,
   "metadata": {},
   "outputs": [
    {
     "name": "stdout",
     "output_type": "stream",
     "text": [
      "[12, 56, 768, 34, 346, 8, 214]\n",
      "[23, 879, 7, 5467, 23, 231, 23]\n"
     ]
    }
   ],
   "source": [
    "x = [23,12,56,768,879,7,34,346,5467,8,23,231,23,214]\n",
    "even_x = [i for i in x if i % 2 == 0]\n",
    "odd_x = [i for i in x if i % 2 != 0]\n",
    "print(even_x)\n",
    "print(odd_x)\n"
   ]
  },
  {
   "cell_type": "code",
   "execution_count": null,
   "metadata": {},
   "outputs": [],
   "source": []
  }
 ],
 "metadata": {
  "interpreter": {
   "hash": "26d6d95e799f68a0680bea77b17a4e3218da601be7d02863e2950dbe63a5be85"
  },
  "kernelspec": {
   "display_name": "Python 3.9.5 ('base')",
   "language": "python",
   "name": "python3"
  },
  "language_info": {
   "codemirror_mode": {
    "name": "ipython",
    "version": 3
   },
   "file_extension": ".py",
   "mimetype": "text/x-python",
   "name": "python",
   "nbconvert_exporter": "python",
   "pygments_lexer": "ipython3",
   "version": "3.9.5"
  },
  "orig_nbformat": 4
 },
 "nbformat": 4,
 "nbformat_minor": 2
}
