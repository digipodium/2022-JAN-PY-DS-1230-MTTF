{
 "cells": [
  {
   "cell_type": "markdown",
   "metadata": {},
   "source": [
    "# install the library\n",
    "\n",
    "```cmd\n",
    "pip install opencv-contrib-python pillow\n",
    "```\n"
   ]
  },
  {
   "cell_type": "markdown",
   "metadata": {},
   "source": [
    "- load the image\n",
    "- view the details\n",
    "- convert to grayscale (b/w)\n",
    "- convert to rgb\n",
    "- resize\n",
    "- rotate\n",
    "- crop\n",
    "- blur\n",
    "- merge\n",
    "- save\n"
   ]
  },
  {
   "cell_type": "code",
   "execution_count": 1,
   "metadata": {},
   "outputs": [],
   "source": [
    "import cv2"
   ]
  },
  {
   "cell_type": "code",
   "execution_count": 2,
   "metadata": {},
   "outputs": [
    {
     "data": {
      "text/plain": [
       "array([[[223, 119,   6],\n",
       "        [223, 119,   6],\n",
       "        [223, 119,   6],\n",
       "        ...,\n",
       "        [240, 136,  13],\n",
       "        [240, 136,  13],\n",
       "        [240, 136,  13]],\n",
       "\n",
       "       [[223, 119,   6],\n",
       "        [223, 119,   6],\n",
       "        [223, 119,   6],\n",
       "        ...,\n",
       "        [240, 136,  13],\n",
       "        [240, 136,  13],\n",
       "        [240, 136,  13]],\n",
       "\n",
       "       [[223, 119,   6],\n",
       "        [223, 119,   6],\n",
       "        [223, 119,   6],\n",
       "        ...,\n",
       "        [241, 137,  14],\n",
       "        [241, 137,  14],\n",
       "        [241, 137,  14]],\n",
       "\n",
       "       ...,\n",
       "\n",
       "       [[255, 251, 248],\n",
       "        [255, 251, 248],\n",
       "        [255, 251, 248],\n",
       "        ...,\n",
       "        [255, 249, 238],\n",
       "        [255, 249, 238],\n",
       "        [255, 249, 238]],\n",
       "\n",
       "       [[255, 251, 248],\n",
       "        [255, 251, 248],\n",
       "        [255, 251, 248],\n",
       "        ...,\n",
       "        [255, 250, 239],\n",
       "        [255, 250, 239],\n",
       "        [255, 250, 239]],\n",
       "\n",
       "       [[255, 251, 248],\n",
       "        [255, 251, 248],\n",
       "        [255, 251, 248],\n",
       "        ...,\n",
       "        [255, 250, 239],\n",
       "        [255, 250, 239],\n",
       "        [255, 250, 239]]], dtype=uint8)"
      ]
     },
     "execution_count": 2,
     "metadata": {},
     "output_type": "execute_result"
    }
   ],
   "source": [
    "cv2.imread('sky.jpg')"
   ]
  },
  {
   "cell_type": "code",
   "execution_count": 3,
   "metadata": {},
   "outputs": [
    {
     "name": "stdout",
     "output_type": "stream",
     "text": [
      "(408, 612, 3)\n"
     ]
    }
   ],
   "source": [
    "im1 = cv2.imread('sky.jpg')\n",
    "print(im1.shape)"
   ]
  },
  {
   "cell_type": "code",
   "execution_count": 4,
   "metadata": {},
   "outputs": [],
   "source": [
    "cv2.imshow('image window', im1)\n",
    "cv2.waitKey(0)\n",
    "cv2.destroyAllWindows()"
   ]
  },
  {
   "cell_type": "code",
   "execution_count": 5,
   "metadata": {},
   "outputs": [
    {
     "data": {
      "text/plain": [
       "(1080, 1920, 3)"
      ]
     },
     "execution_count": 5,
     "metadata": {},
     "output_type": "execute_result"
    }
   ],
   "source": [
    "im2 = cv2.imread('ex.png')\n",
    "im2.shape"
   ]
  },
  {
   "cell_type": "code",
   "execution_count": 6,
   "metadata": {},
   "outputs": [],
   "source": [
    "gray_im1 = cv2.cvtColor(im1, cv2.COLOR_BGR2GRAY)\n",
    "cv2.imshow(\"gray\", gray_im1)\n",
    "cv2.waitKey(0)\n",
    "cv2.destroyAllWindows()"
   ]
  },
  {
   "cell_type": "code",
   "execution_count": 12,
   "metadata": {},
   "outputs": [],
   "source": [
    "halved_im2 = cv2.resize(im2, (0, 0), fx=.5, fy=.5)\n",
    "cv2.imshow(\"halved\", halved_im2)\n",
    "cv2.waitKey(0)\n",
    "cv2.destroyAllWindows()"
   ]
  },
  {
   "cell_type": "code",
   "execution_count": 7,
   "metadata": {},
   "outputs": [
    {
     "data": {
      "text/plain": [
       "(200, 200, 3)"
      ]
     },
     "execution_count": 7,
     "metadata": {},
     "output_type": "execute_result"
    }
   ],
   "source": [
    "cv2.resize(im2,(200,200)).shape"
   ]
  },
  {
   "cell_type": "code",
   "execution_count": 13,
   "metadata": {},
   "outputs": [],
   "source": [
    "cam = cv2.VideoCapture(0)\n",
    "while True:\n",
    "    status, frame = cam.read()\n",
    "    cv2.imshow('frame', frame)\n",
    "    if cv2.waitKey(1) == 27:\n",
    "        break\n",
    "cam.release()\n",
    "cv2.destroyAllWindows()"
   ]
  },
  {
   "cell_type": "markdown",
   "metadata": {},
   "source": [
    "link -> https://docs.opencv.org/4.x/d6/d00/tutorial_py_root.html"
   ]
  },
  {
   "cell_type": "code",
   "execution_count": 19,
   "metadata": {},
   "outputs": [],
   "source": [
    "cam = cv2.VideoCapture(r\"E:\\Amna Save\\VID_20201211_122312668.mp4\")\n",
    "while True:\n",
    "    status, frame = cam.read()\n",
    "    if not status:\n",
    "        break\n",
    "    cv2.imshow('frame', frame)\n",
    "    if cv2.waitKey(1) == 27:\n",
    "        break\n",
    "cam.release()\n",
    "cv2.destroyAllWindows()"
   ]
  },
  {
   "cell_type": "code",
   "execution_count": 26,
   "metadata": {},
   "outputs": [],
   "source": [
    "cam = cv2.VideoCapture(0)\n",
    "while True:\n",
    "    status, frame = cam.read()\n",
    "    h,w,_ = frame.shape\n",
    "    center = (w//2, h//2)\n",
    "    cv2.line(frame,(0,100),(w,100),(255,255,255),5)\n",
    "    cv2.circle(frame,center, 200, (0,0,255), -1)\n",
    "    cv2.imshow('frame', frame)\n",
    "    if cv2.waitKey(1) == 27:\n",
    "        break\n",
    "cam.release()\n",
    "cv2.destroyAllWindows()"
   ]
  },
  {
   "cell_type": "code",
   "execution_count": 37,
   "metadata": {},
   "outputs": [],
   "source": [
    "cam = cv2.VideoCapture(0)\n",
    "while True:\n",
    "    status, frame = cam.read()\n",
    "    h,w,_ = frame.shape\n",
    "    center = (w//2, h//2)\n",
    "    font = cv2.FONT_HERSHEY_DUPLEX\n",
    "    cv2.putText(frame,'Live Cam 0',(10,30), font, 1,(255,255,255),2,cv2.LINE_AA)\n",
    "    cv2.putText(frame,'Python class @ digipodium',(10,h-10), font, .8 ,(255,255,255),1,cv2.LINE_AA)\n",
    "    cv2.imshow('frame', frame)\n",
    "    if cv2.waitKey(1) == 27:\n",
    "        break\n",
    "cam.release()\n",
    "cv2.destroyAllWindows()"
   ]
  },
  {
   "cell_type": "code",
   "execution_count": null,
   "metadata": {},
   "outputs": [],
   "source": []
  }
 ],
 "metadata": {
  "interpreter": {
   "hash": "26d6d95e799f68a0680bea77b17a4e3218da601be7d02863e2950dbe63a5be85"
  },
  "kernelspec": {
   "display_name": "Python 3.9.5 ('base')",
   "language": "python",
   "name": "python3"
  },
  "language_info": {
   "codemirror_mode": {
    "name": "ipython",
    "version": 3
   },
   "file_extension": ".py",
   "mimetype": "text/x-python",
   "name": "python",
   "nbconvert_exporter": "python",
   "pygments_lexer": "ipython3",
   "version": "3.9.5"
  },
  "orig_nbformat": 4
 },
 "nbformat": 4,
 "nbformat_minor": 2
}
